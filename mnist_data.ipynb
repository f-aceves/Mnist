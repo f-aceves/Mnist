{
 "cells": [
  {
   "cell_type": "markdown",
   "source": [
    "# Importing Relevant Packages"
   ],
   "metadata": {
    "papermill": {
     "duration": 0.011109,
     "end_time": "2021-08-24T21:24:39.159588",
     "exception": false,
     "start_time": "2021-08-24T21:24:39.148479",
     "status": "completed"
    },
    "tags": []
   }
  },
  {
   "cell_type": "code",
   "execution_count": 1,
   "source": [
    "import numpy as np\r\n",
    "import pandas as pd \r\n",
    "import tensorflow as tf\r\n",
    "from sklearn.model_selection import train_test_split\r\n",
    "import tensorflow_datasets as tfds"
   ],
   "outputs": [],
   "metadata": {
    "execution": {
     "iopub.execute_input": "2021-08-24T21:24:39.185706Z",
     "iopub.status.busy": "2021-08-24T21:24:39.185046Z",
     "iopub.status.idle": "2021-08-24T21:24:46.771805Z",
     "shell.execute_reply": "2021-08-24T21:24:46.771160Z",
     "shell.execute_reply.started": "2021-08-24T02:15:34.470271Z"
    },
    "papermill": {
     "duration": 7.600908,
     "end_time": "2021-08-24T21:24:46.771968",
     "exception": false,
     "start_time": "2021-08-24T21:24:39.171060",
     "status": "completed"
    },
    "tags": []
   }
  },
  {
   "cell_type": "markdown",
   "source": [
    "# Getting the Mnist Data"
   ],
   "metadata": {
    "papermill": {
     "duration": 0.011253,
     "end_time": "2021-08-24T21:24:46.795481",
     "exception": false,
     "start_time": "2021-08-24T21:24:46.784228",
     "status": "completed"
    },
    "tags": []
   }
  },
  {
   "cell_type": "code",
   "execution_count": 2,
   "source": [
    "mnist_dataset, mnist_info = tfds.load(name = 'mnist', with_info = True, as_supervised = True)"
   ],
   "outputs": [],
   "metadata": {
    "execution": {
     "iopub.execute_input": "2021-08-24T21:24:46.828096Z",
     "iopub.status.busy": "2021-08-24T21:24:46.825959Z",
     "iopub.status.idle": "2021-08-24T21:24:52.013182Z",
     "shell.execute_reply": "2021-08-24T21:24:52.012575Z",
     "shell.execute_reply.started": "2021-08-24T02:12:03.425041Z"
    },
    "papermill": {
     "duration": 5.204601,
     "end_time": "2021-08-24T21:24:52.013330",
     "exception": false,
     "start_time": "2021-08-24T21:24:46.808729",
     "status": "completed"
    },
    "tags": []
   }
  },
  {
   "cell_type": "markdown",
   "source": [
    "# Preprocessing"
   ],
   "metadata": {
    "papermill": {
     "duration": 0.013613,
     "end_time": "2021-08-24T21:24:52.040789",
     "exception": false,
     "start_time": "2021-08-24T21:24:52.027176",
     "status": "completed"
    },
    "tags": []
   }
  },
  {
   "cell_type": "code",
   "execution_count": 113,
   "source": [
    "mnist_train, mnist_test = mnist_dataset['train'],mnist_dataset['test']\r\n",
    "\r\n",
    "num_val_samples = .1 * mnist_info.splits['train'].num_examples\r\n",
    "num_val_samples = tf.cast(num_val_samples, tf.int64)\r\n",
    "\r\n",
    "num_test_samples = mnist_info.splits['test'].num_examples\r\n",
    "num_test_samples = tf.cast(num_val_samples, tf.int64)\r\n",
    "\r\n",
    "def scale(image, label):\r\n",
    "    image = tf.cast(image, tf.float32)\r\n",
    "    image /= 255.\r\n",
    "    return image, label\r\n",
    "\r\n",
    "scaled_train_and_val_data = mnist_train.map(scale)\r\n",
    "test_data = mnist_test.map(scale)\r\n",
    "\r\n",
    "Buffer_size = 20 #Value chosen from \"Further Improvments\" section\r\n",
    "\r\n",
    "shuffled_train_and_val_data = scaled_train_and_val_data.shuffle(Buffer_size)\r\n",
    "\r\n",
    "val_data = shuffled_train_and_val_data.take(num_val_samples)\r\n",
    "train_data = shuffled_train_and_val_data.skip(num_val_samples)\r\n",
    "\r\n",
    "Batch_size = 50 #Value chosen from \"Further Improvments\" section\r\n",
    "\r\n",
    "train_data = train_data.batch(Batch_size)\r\n",
    "val_data = val_data.batch(num_val_samples)\r\n",
    "test_data = test_data.batch(num_test_samples)\r\n",
    "\r\n",
    "val_inputs, val_targets = next(iter(val_data))"
   ],
   "outputs": [],
   "metadata": {
    "execution": {
     "iopub.execute_input": "2021-08-24T21:24:52.079147Z",
     "iopub.status.busy": "2021-08-24T21:24:52.078297Z",
     "iopub.status.idle": "2021-08-24T21:24:54.120094Z",
     "shell.execute_reply": "2021-08-24T21:24:54.119573Z",
     "shell.execute_reply.started": "2021-08-24T02:44:37.890735Z"
    },
    "papermill": {
     "duration": 2.06616,
     "end_time": "2021-08-24T21:24:54.120326",
     "exception": false,
     "start_time": "2021-08-24T21:24:52.054166",
     "status": "completed"
    },
    "tags": []
   }
  },
  {
   "cell_type": "markdown",
   "source": [
    "# Model"
   ],
   "metadata": {
    "papermill": {
     "duration": 0.012975,
     "end_time": "2021-08-24T21:24:54.147264",
     "exception": false,
     "start_time": "2021-08-24T21:24:54.134289",
     "status": "completed"
    },
    "tags": []
   }
  },
  {
   "cell_type": "code",
   "execution_count": 114,
   "source": [
    "input_size = 784\r\n",
    "output_size = 10\r\n",
    "hidden_layer_size = 200 #Value chosen from \"Further Improvments\" section\r\n",
    "\r\n",
    "model = tf.keras.Sequential([\r\n",
    "            tf.keras.layers.Flatten(input_shape = (28,28,1)),\r\n",
    "            tf.keras.layers.Dense(hidden_layer_size, activation = 'relu'),\r\n",
    "            tf.keras.layers.Dense(output_size, activation = 'softmax')\r\n",
    "            ])"
   ],
   "outputs": [],
   "metadata": {
    "execution": {
     "iopub.execute_input": "2021-08-24T21:24:54.181263Z",
     "iopub.status.busy": "2021-08-24T21:24:54.180257Z",
     "iopub.status.idle": "2021-08-24T21:24:54.245818Z",
     "shell.execute_reply": "2021-08-24T21:24:54.245102Z",
     "shell.execute_reply.started": "2021-08-24T02:53:41.460889Z"
    },
    "papermill": {
     "duration": 0.085678,
     "end_time": "2021-08-24T21:24:54.245961",
     "exception": false,
     "start_time": "2021-08-24T21:24:54.160283",
     "status": "completed"
    },
    "tags": []
   }
  },
  {
   "cell_type": "markdown",
   "source": [
    "# Optimizer and Loss Function"
   ],
   "metadata": {
    "papermill": {
     "duration": 0.013069,
     "end_time": "2021-08-24T21:24:54.271973",
     "exception": false,
     "start_time": "2021-08-24T21:24:54.258904",
     "status": "completed"
    },
    "tags": []
   }
  },
  {
   "cell_type": "code",
   "execution_count": 115,
   "source": [
    "model.compile(optimizer = 'adam', loss = 'sparse_categorical_crossentropy', metrics = ['accuracy'])"
   ],
   "outputs": [],
   "metadata": {
    "execution": {
     "iopub.execute_input": "2021-08-24T21:24:54.303685Z",
     "iopub.status.busy": "2021-08-24T21:24:54.302944Z",
     "iopub.status.idle": "2021-08-24T21:24:54.319441Z",
     "shell.execute_reply": "2021-08-24T21:24:54.319988Z",
     "shell.execute_reply.started": "2021-08-24T02:53:43.347808Z"
    },
    "papermill": {
     "duration": 0.035495,
     "end_time": "2021-08-24T21:24:54.320210",
     "exception": false,
     "start_time": "2021-08-24T21:24:54.284715",
     "status": "completed"
    },
    "tags": []
   }
  },
  {
   "cell_type": "markdown",
   "source": [
    "# Training"
   ],
   "metadata": {
    "papermill": {
     "duration": 0.012555,
     "end_time": "2021-08-24T21:24:54.346162",
     "exception": false,
     "start_time": "2021-08-24T21:24:54.333607",
     "status": "completed"
    },
    "tags": []
   }
  },
  {
   "cell_type": "code",
   "execution_count": 116,
   "source": [
    "num_epochs = 5\r\n",
    "stop = tf.keras.callbacks.EarlyStopping(patience= 2)\r\n",
    "model.fit(train_data, epochs= num_epochs, callbacks = stop,\r\n",
    "          validation_data = (val_inputs,val_targets),verbose = 1)"
   ],
   "outputs": [
    {
     "output_type": "stream",
     "name": "stdout",
     "text": [
      "Epoch 1/5\n",
      "1080/1080 [==============================] - 10s 8ms/step - loss: 0.4532 - accuracy: 0.8708 - val_loss: 0.1479 - val_accuracy: 0.9558\n",
      "Epoch 2/5\n",
      "1080/1080 [==============================] - 8s 7ms/step - loss: 0.1224 - accuracy: 0.9649 - val_loss: 0.1125 - val_accuracy: 0.9643\n",
      "Epoch 3/5\n",
      "1080/1080 [==============================] - 8s 7ms/step - loss: 0.0792 - accuracy: 0.9770 - val_loss: 0.1011 - val_accuracy: 0.9680\n",
      "Epoch 4/5\n",
      "1080/1080 [==============================] - 7s 6ms/step - loss: 0.0566 - accuracy: 0.9840 - val_loss: 0.0960 - val_accuracy: 0.9700\n",
      "Epoch 5/5\n",
      "1080/1080 [==============================] - 8s 7ms/step - loss: 0.0415 - accuracy: 0.9891 - val_loss: 0.0977 - val_accuracy: 0.9712\n"
     ]
    },
    {
     "output_type": "execute_result",
     "data": {
      "text/plain": [
       "<tensorflow.python.keras.callbacks.History at 0x283d6c6cca0>"
      ]
     },
     "metadata": {},
     "execution_count": 116
    }
   ],
   "metadata": {
    "execution": {
     "iopub.execute_input": "2021-08-24T21:24:54.375507Z",
     "iopub.status.busy": "2021-08-24T21:24:54.374809Z",
     "iopub.status.idle": "2021-08-24T21:25:16.249505Z",
     "shell.execute_reply": "2021-08-24T21:25:16.248930Z",
     "shell.execute_reply.started": "2021-08-24T02:57:49.770924Z"
    },
    "papermill": {
     "duration": 21.890857,
     "end_time": "2021-08-24T21:25:16.249650",
     "exception": false,
     "start_time": "2021-08-24T21:24:54.358793",
     "status": "completed"
    },
    "tags": []
   }
  },
  {
   "cell_type": "markdown",
   "source": [
    "# Further Improvements\r\n",
    "### We will use nested for loops of hyperperameters to see what works best before evaluating our test set"
   ],
   "metadata": {}
  },
  {
   "cell_type": "code",
   "execution_count": 104,
   "source": [
    "col_names = ['Buffer_size', 'Batch_size','hidden_layer_size', 'val_accuracy']\r\n",
    "results_df = pd.DataFrame(columns= col_names)\r\n",
    "for hidden_layer_size in list(range(150, 300, 50)):\r\n",
    "    for Batch_size in list(range(25, 150, 25)): \r\n",
    "        shuffled_train_and_val_data = scaled_train_and_val_data.shuffle(Buffer_size)\r\n",
    "        \r\n",
    "        val_data = shuffled_train_and_val_data.take(num_val_samples)\r\n",
    "        train_data = shuffled_train_and_val_data.skip(num_val_samples)\r\n",
    "\r\n",
    "        train_data = train_data.batch(Batch_size)\r\n",
    "        val_data = val_data.batch(num_val_samples)\r\n",
    "        test_data = test_data.batch(num_test_samples)\r\n",
    "\r\n",
    "        val_inputs, val_targets = next(iter(val_data))\r\n",
    "\r\n",
    "        model = tf.keras.Sequential([\r\n",
    "            tf.keras.layers.Flatten(input_shape = (28,28,1)),\r\n",
    "            tf.keras.layers.Dense(hidden_layer_size, activation = 'relu'),\r\n",
    "            tf.keras.layers.Dense(hidden_layer_size, activation = 'relu'),\r\n",
    "            tf.keras.layers.Dense(output_size, activation = 'softmax')\r\n",
    "            ])\r\n",
    "        model.compile(optimizer = 'adam',\r\n",
    "                    loss = 'sparse_categorical_crossentropy',\r\n",
    "                    metrics = ['accuracy'])\r\n",
    "        num_epochs = 3\r\n",
    "        stop = tf.keras.callbacks.EarlyStopping(patience= 2)\r\n",
    "        results = model.fit(train_data, epochs= num_epochs, callbacks = stop,\r\n",
    "        validation_data = (val_inputs,val_targets),verbose = 0)\r\n",
    "\r\n",
    "        val_accuracy = results.history['val_accuracy'][len(results.history['val_accuracy']) -1]\r\n",
    "        to_append = [Buffer_size, Batch_size, hidden_layer_size ,val_accuracy]\r\n",
    "        df_length =  len(results_df)\r\n",
    "        results_df.loc[df_length] = to_append\r\n",
    "            "
   ],
   "outputs": [],
   "metadata": {}
  },
  {
   "cell_type": "code",
   "execution_count": 105,
   "source": [
    "#As shown, since there is s\r\n",
    "results_df.sort_values('val_accuracy', ascending= False)"
   ],
   "outputs": [
    {
     "output_type": "execute_result",
     "data": {
      "text/html": [
       "<div>\n",
       "<style scoped>\n",
       "    .dataframe tbody tr th:only-of-type {\n",
       "        vertical-align: middle;\n",
       "    }\n",
       "\n",
       "    .dataframe tbody tr th {\n",
       "        vertical-align: top;\n",
       "    }\n",
       "\n",
       "    .dataframe thead th {\n",
       "        text-align: right;\n",
       "    }\n",
       "</style>\n",
       "<table border=\"1\" class=\"dataframe\">\n",
       "  <thead>\n",
       "    <tr style=\"text-align: right;\">\n",
       "      <th></th>\n",
       "      <th>Buffer_size</th>\n",
       "      <th>Batch_size</th>\n",
       "      <th>hidden_layer_size</th>\n",
       "      <th>val_accuracy</th>\n",
       "    </tr>\n",
       "  </thead>\n",
       "  <tbody>\n",
       "    <tr>\n",
       "      <th>6</th>\n",
       "      <td>20.0</td>\n",
       "      <td>50.0</td>\n",
       "      <td>200.0</td>\n",
       "      <td>0.971667</td>\n",
       "    </tr>\n",
       "    <tr>\n",
       "      <th>9</th>\n",
       "      <td>20.0</td>\n",
       "      <td>125.0</td>\n",
       "      <td>200.0</td>\n",
       "      <td>0.970833</td>\n",
       "    </tr>\n",
       "    <tr>\n",
       "      <th>1</th>\n",
       "      <td>20.0</td>\n",
       "      <td>50.0</td>\n",
       "      <td>150.0</td>\n",
       "      <td>0.970500</td>\n",
       "    </tr>\n",
       "    <tr>\n",
       "      <th>14</th>\n",
       "      <td>20.0</td>\n",
       "      <td>125.0</td>\n",
       "      <td>250.0</td>\n",
       "      <td>0.969833</td>\n",
       "    </tr>\n",
       "    <tr>\n",
       "      <th>10</th>\n",
       "      <td>20.0</td>\n",
       "      <td>25.0</td>\n",
       "      <td>250.0</td>\n",
       "      <td>0.969667</td>\n",
       "    </tr>\n",
       "    <tr>\n",
       "      <th>5</th>\n",
       "      <td>20.0</td>\n",
       "      <td>25.0</td>\n",
       "      <td>200.0</td>\n",
       "      <td>0.969333</td>\n",
       "    </tr>\n",
       "    <tr>\n",
       "      <th>8</th>\n",
       "      <td>20.0</td>\n",
       "      <td>100.0</td>\n",
       "      <td>200.0</td>\n",
       "      <td>0.969333</td>\n",
       "    </tr>\n",
       "    <tr>\n",
       "      <th>11</th>\n",
       "      <td>20.0</td>\n",
       "      <td>50.0</td>\n",
       "      <td>250.0</td>\n",
       "      <td>0.969167</td>\n",
       "    </tr>\n",
       "    <tr>\n",
       "      <th>7</th>\n",
       "      <td>20.0</td>\n",
       "      <td>75.0</td>\n",
       "      <td>200.0</td>\n",
       "      <td>0.969000</td>\n",
       "    </tr>\n",
       "    <tr>\n",
       "      <th>13</th>\n",
       "      <td>20.0</td>\n",
       "      <td>100.0</td>\n",
       "      <td>250.0</td>\n",
       "      <td>0.968333</td>\n",
       "    </tr>\n",
       "    <tr>\n",
       "      <th>4</th>\n",
       "      <td>20.0</td>\n",
       "      <td>125.0</td>\n",
       "      <td>150.0</td>\n",
       "      <td>0.968000</td>\n",
       "    </tr>\n",
       "    <tr>\n",
       "      <th>2</th>\n",
       "      <td>20.0</td>\n",
       "      <td>75.0</td>\n",
       "      <td>150.0</td>\n",
       "      <td>0.967500</td>\n",
       "    </tr>\n",
       "    <tr>\n",
       "      <th>0</th>\n",
       "      <td>20.0</td>\n",
       "      <td>25.0</td>\n",
       "      <td>150.0</td>\n",
       "      <td>0.967333</td>\n",
       "    </tr>\n",
       "    <tr>\n",
       "      <th>12</th>\n",
       "      <td>20.0</td>\n",
       "      <td>75.0</td>\n",
       "      <td>250.0</td>\n",
       "      <td>0.966833</td>\n",
       "    </tr>\n",
       "    <tr>\n",
       "      <th>3</th>\n",
       "      <td>20.0</td>\n",
       "      <td>100.0</td>\n",
       "      <td>150.0</td>\n",
       "      <td>0.966500</td>\n",
       "    </tr>\n",
       "  </tbody>\n",
       "</table>\n",
       "</div>"
      ],
      "text/plain": [
       "    Buffer_size  Batch_size  hidden_layer_size  val_accuracy\n",
       "6          20.0        50.0              200.0      0.971667\n",
       "9          20.0       125.0              200.0      0.970833\n",
       "1          20.0        50.0              150.0      0.970500\n",
       "14         20.0       125.0              250.0      0.969833\n",
       "10         20.0        25.0              250.0      0.969667\n",
       "5          20.0        25.0              200.0      0.969333\n",
       "8          20.0       100.0              200.0      0.969333\n",
       "11         20.0        50.0              250.0      0.969167\n",
       "7          20.0        75.0              200.0      0.969000\n",
       "13         20.0       100.0              250.0      0.968333\n",
       "4          20.0       125.0              150.0      0.968000\n",
       "2          20.0        75.0              150.0      0.967500\n",
       "0          20.0        25.0              150.0      0.967333\n",
       "12         20.0        75.0              250.0      0.966833\n",
       "3          20.0       100.0              150.0      0.966500"
      ]
     },
     "metadata": {},
     "execution_count": 105
    }
   ],
   "metadata": {}
  },
  {
   "cell_type": "markdown",
   "source": [
    "# Testing our Model"
   ],
   "metadata": {
    "papermill": {
     "duration": 0.016004,
     "end_time": "2021-08-24T21:25:16.282170",
     "exception": false,
     "start_time": "2021-08-24T21:25:16.266166",
     "status": "completed"
    },
    "tags": []
   }
  },
  {
   "cell_type": "code",
   "execution_count": 89,
   "source": [
    "test_loss, test_accuracy = model.evaluate(test_data)"
   ],
   "outputs": [
    {
     "output_type": "stream",
     "name": "stdout",
     "text": [
      "2/2 [==============================] - 1s 235ms/step - loss: 0.0863 - accuracy: 0.9748\n"
     ]
    }
   ],
   "metadata": {
    "execution": {
     "iopub.execute_input": "2021-08-24T21:25:16.321509Z",
     "iopub.status.busy": "2021-08-24T21:25:16.320824Z",
     "iopub.status.idle": "2021-08-24T21:25:17.315189Z",
     "shell.execute_reply": "2021-08-24T21:25:17.314634Z",
     "shell.execute_reply.started": "2021-08-24T02:59:59.933397Z"
    },
    "papermill": {
     "duration": 1.016329,
     "end_time": "2021-08-24T21:25:17.315338",
     "exception": false,
     "start_time": "2021-08-24T21:25:16.299009",
     "status": "completed"
    },
    "tags": []
   }
  },
  {
   "cell_type": "markdown",
   "source": [
    "# Conclusion:\r\n",
    "### Our model has an accuracy of 97%\r\n",
    "### Thus, given 10 new customers, we can accuratly predict whether 9 of those customers will continue to use the app or not"
   ],
   "metadata": {}
  },
  {
   "cell_type": "code",
   "execution_count": 117,
   "source": [
    "model.evaluate(test_data)"
   ],
   "outputs": [
    {
     "output_type": "stream",
     "name": "stdout",
     "text": [
      "2/2 [==============================] - 1s 310ms/step - loss: 0.0828 - accuracy: 0.9743\n"
     ]
    },
    {
     "output_type": "execute_result",
     "data": {
      "text/plain": [
       "[0.08278011530637741, 0.9743000268936157]"
      ]
     },
     "metadata": {},
     "execution_count": 117
    }
   ],
   "metadata": {}
  }
 ],
 "metadata": {
  "kernelspec": {
   "name": "python3",
   "display_name": "Python 3.8.5 64-bit ('bigmoney': conda)"
  },
  "language_info": {
   "codemirror_mode": {
    "name": "ipython",
    "version": 3
   },
   "file_extension": ".py",
   "mimetype": "text/x-python",
   "name": "python",
   "nbconvert_exporter": "python",
   "pygments_lexer": "ipython3",
   "version": "3.8.5"
  },
  "papermill": {
   "default_parameters": {},
   "duration": 48.823522,
   "end_time": "2021-08-24T21:25:19.570253",
   "environment_variables": {},
   "exception": null,
   "input_path": "__notebook__.ipynb",
   "output_path": "__notebook__.ipynb",
   "parameters": {},
   "start_time": "2021-08-24T21:24:30.746731",
   "version": "2.3.3"
  },
  "widgets": {
   "application/vnd.jupyter.widget-state+json": {
    "state": {
     "10df00bf1f794805be56d6b187bdf9b3": {
      "model_module": "@jupyter-widgets/controls",
      "model_module_version": "1.5.0",
      "model_name": "HTMLModel",
      "state": {
       "_dom_classes": [],
       "_model_module": "@jupyter-widgets/controls",
       "_model_module_version": "1.5.0",
       "_model_name": "HTMLModel",
       "_view_count": null,
       "_view_module": "@jupyter-widgets/controls",
       "_view_module_version": "1.5.0",
       "_view_name": "HTMLView",
       "description": "",
       "description_tooltip": null,
       "layout": "IPY_MODEL_3c4c2cbee0a742a28d1786419716eebd",
       "placeholder": "​",
       "style": "IPY_MODEL_8abab924c6ed4706a7d9ec3e7523cd18",
       "value": " 4/4 [00:02&lt;00:00,  6.87 file/s]"
      }
     },
     "3c4c2cbee0a742a28d1786419716eebd": {
      "model_module": "@jupyter-widgets/base",
      "model_module_version": "1.2.0",
      "model_name": "LayoutModel",
      "state": {
       "_model_module": "@jupyter-widgets/base",
       "_model_module_version": "1.2.0",
       "_model_name": "LayoutModel",
       "_view_count": null,
       "_view_module": "@jupyter-widgets/base",
       "_view_module_version": "1.2.0",
       "_view_name": "LayoutView",
       "align_content": null,
       "align_items": null,
       "align_self": null,
       "border": null,
       "bottom": null,
       "display": null,
       "flex": null,
       "flex_flow": null,
       "grid_area": null,
       "grid_auto_columns": null,
       "grid_auto_flow": null,
       "grid_auto_rows": null,
       "grid_column": null,
       "grid_gap": null,
       "grid_row": null,
       "grid_template_areas": null,
       "grid_template_columns": null,
       "grid_template_rows": null,
       "height": null,
       "justify_content": null,
       "justify_items": null,
       "left": null,
       "margin": null,
       "max_height": null,
       "max_width": null,
       "min_height": null,
       "min_width": null,
       "object_fit": null,
       "object_position": null,
       "order": null,
       "overflow": null,
       "overflow_x": null,
       "overflow_y": null,
       "padding": null,
       "right": null,
       "top": null,
       "visibility": null,
       "width": null
      }
     },
     "51410ce781c448fbae261ff74cbe2130": {
      "model_module": "@jupyter-widgets/controls",
      "model_module_version": "1.5.0",
      "model_name": "ProgressStyleModel",
      "state": {
       "_model_module": "@jupyter-widgets/controls",
       "_model_module_version": "1.5.0",
       "_model_name": "ProgressStyleModel",
       "_view_count": null,
       "_view_module": "@jupyter-widgets/base",
       "_view_module_version": "1.2.0",
       "_view_name": "StyleView",
       "bar_color": null,
       "description_width": ""
      }
     },
     "6421b743e3a84545ac55a562a065c920": {
      "model_module": "@jupyter-widgets/base",
      "model_module_version": "1.2.0",
      "model_name": "LayoutModel",
      "state": {
       "_model_module": "@jupyter-widgets/base",
       "_model_module_version": "1.2.0",
       "_model_name": "LayoutModel",
       "_view_count": null,
       "_view_module": "@jupyter-widgets/base",
       "_view_module_version": "1.2.0",
       "_view_name": "LayoutView",
       "align_content": null,
       "align_items": null,
       "align_self": null,
       "border": null,
       "bottom": null,
       "display": null,
       "flex": null,
       "flex_flow": null,
       "grid_area": null,
       "grid_auto_columns": null,
       "grid_auto_flow": null,
       "grid_auto_rows": null,
       "grid_column": null,
       "grid_gap": null,
       "grid_row": null,
       "grid_template_areas": null,
       "grid_template_columns": null,
       "grid_template_rows": null,
       "height": null,
       "justify_content": null,
       "justify_items": null,
       "left": null,
       "margin": null,
       "max_height": null,
       "max_width": null,
       "min_height": null,
       "min_width": null,
       "object_fit": null,
       "object_position": null,
       "order": null,
       "overflow": null,
       "overflow_x": null,
       "overflow_y": null,
       "padding": null,
       "right": null,
       "top": null,
       "visibility": null,
       "width": null
      }
     },
     "6b6232f36b7e4a278510c718a24cd348": {
      "model_module": "@jupyter-widgets/controls",
      "model_module_version": "1.5.0",
      "model_name": "DescriptionStyleModel",
      "state": {
       "_model_module": "@jupyter-widgets/controls",
       "_model_module_version": "1.5.0",
       "_model_name": "DescriptionStyleModel",
       "_view_count": null,
       "_view_module": "@jupyter-widgets/base",
       "_view_module_version": "1.2.0",
       "_view_name": "StyleView",
       "description_width": ""
      }
     },
     "86bd12f8205a431ea947a6fa7bc774b9": {
      "model_module": "@jupyter-widgets/controls",
      "model_module_version": "1.5.0",
      "model_name": "HTMLModel",
      "state": {
       "_dom_classes": [],
       "_model_module": "@jupyter-widgets/controls",
       "_model_module_version": "1.5.0",
       "_model_name": "HTMLModel",
       "_view_count": null,
       "_view_module": "@jupyter-widgets/controls",
       "_view_module_version": "1.5.0",
       "_view_name": "HTMLView",
       "description": "",
       "description_tooltip": null,
       "layout": "IPY_MODEL_d20a452acc89483780df8770e54be2fe",
       "placeholder": "​",
       "style": "IPY_MODEL_6b6232f36b7e4a278510c718a24cd348",
       "value": "Dl Completed...: 100%"
      }
     },
     "8abab924c6ed4706a7d9ec3e7523cd18": {
      "model_module": "@jupyter-widgets/controls",
      "model_module_version": "1.5.0",
      "model_name": "DescriptionStyleModel",
      "state": {
       "_model_module": "@jupyter-widgets/controls",
       "_model_module_version": "1.5.0",
       "_model_name": "DescriptionStyleModel",
       "_view_count": null,
       "_view_module": "@jupyter-widgets/base",
       "_view_module_version": "1.2.0",
       "_view_name": "StyleView",
       "description_width": ""
      }
     },
     "8b78872fc51144cb9393c96524300442": {
      "model_module": "@jupyter-widgets/base",
      "model_module_version": "1.2.0",
      "model_name": "LayoutModel",
      "state": {
       "_model_module": "@jupyter-widgets/base",
       "_model_module_version": "1.2.0",
       "_model_name": "LayoutModel",
       "_view_count": null,
       "_view_module": "@jupyter-widgets/base",
       "_view_module_version": "1.2.0",
       "_view_name": "LayoutView",
       "align_content": null,
       "align_items": null,
       "align_self": null,
       "border": null,
       "bottom": null,
       "display": null,
       "flex": null,
       "flex_flow": null,
       "grid_area": null,
       "grid_auto_columns": null,
       "grid_auto_flow": null,
       "grid_auto_rows": null,
       "grid_column": null,
       "grid_gap": null,
       "grid_row": null,
       "grid_template_areas": null,
       "grid_template_columns": null,
       "grid_template_rows": null,
       "height": null,
       "justify_content": null,
       "justify_items": null,
       "left": null,
       "margin": null,
       "max_height": null,
       "max_width": null,
       "min_height": null,
       "min_width": null,
       "object_fit": null,
       "object_position": null,
       "order": null,
       "overflow": null,
       "overflow_x": null,
       "overflow_y": null,
       "padding": null,
       "right": null,
       "top": null,
       "visibility": null,
       "width": null
      }
     },
     "d20a452acc89483780df8770e54be2fe": {
      "model_module": "@jupyter-widgets/base",
      "model_module_version": "1.2.0",
      "model_name": "LayoutModel",
      "state": {
       "_model_module": "@jupyter-widgets/base",
       "_model_module_version": "1.2.0",
       "_model_name": "LayoutModel",
       "_view_count": null,
       "_view_module": "@jupyter-widgets/base",
       "_view_module_version": "1.2.0",
       "_view_name": "LayoutView",
       "align_content": null,
       "align_items": null,
       "align_self": null,
       "border": null,
       "bottom": null,
       "display": null,
       "flex": null,
       "flex_flow": null,
       "grid_area": null,
       "grid_auto_columns": null,
       "grid_auto_flow": null,
       "grid_auto_rows": null,
       "grid_column": null,
       "grid_gap": null,
       "grid_row": null,
       "grid_template_areas": null,
       "grid_template_columns": null,
       "grid_template_rows": null,
       "height": null,
       "justify_content": null,
       "justify_items": null,
       "left": null,
       "margin": null,
       "max_height": null,
       "max_width": null,
       "min_height": null,
       "min_width": null,
       "object_fit": null,
       "object_position": null,
       "order": null,
       "overflow": null,
       "overflow_x": null,
       "overflow_y": null,
       "padding": null,
       "right": null,
       "top": null,
       "visibility": null,
       "width": null
      }
     },
     "ea56e0f33b994e3d8850769559f08157": {
      "model_module": "@jupyter-widgets/controls",
      "model_module_version": "1.5.0",
      "model_name": "FloatProgressModel",
      "state": {
       "_dom_classes": [],
       "_model_module": "@jupyter-widgets/controls",
       "_model_module_version": "1.5.0",
       "_model_name": "FloatProgressModel",
       "_view_count": null,
       "_view_module": "@jupyter-widgets/controls",
       "_view_module_version": "1.5.0",
       "_view_name": "ProgressView",
       "bar_style": "success",
       "description": "",
       "description_tooltip": null,
       "layout": "IPY_MODEL_6421b743e3a84545ac55a562a065c920",
       "max": 4,
       "min": 0,
       "orientation": "horizontal",
       "style": "IPY_MODEL_51410ce781c448fbae261ff74cbe2130",
       "value": 4
      }
     },
     "eb57a92a772a48ba9e67dca8172f25eb": {
      "model_module": "@jupyter-widgets/controls",
      "model_module_version": "1.5.0",
      "model_name": "HBoxModel",
      "state": {
       "_dom_classes": [],
       "_model_module": "@jupyter-widgets/controls",
       "_model_module_version": "1.5.0",
       "_model_name": "HBoxModel",
       "_view_count": null,
       "_view_module": "@jupyter-widgets/controls",
       "_view_module_version": "1.5.0",
       "_view_name": "HBoxView",
       "box_style": "",
       "children": [
        "IPY_MODEL_86bd12f8205a431ea947a6fa7bc774b9",
        "IPY_MODEL_ea56e0f33b994e3d8850769559f08157",
        "IPY_MODEL_10df00bf1f794805be56d6b187bdf9b3"
       ],
       "layout": "IPY_MODEL_8b78872fc51144cb9393c96524300442"
      }
     }
    },
    "version_major": 2,
    "version_minor": 0
   }
  },
  "interpreter": {
   "hash": "b0be6a5c699e71b42c1f0721bbf30435518180c4d96f649e384d422db7e7e937"
  }
 },
 "nbformat": 4,
 "nbformat_minor": 5
}